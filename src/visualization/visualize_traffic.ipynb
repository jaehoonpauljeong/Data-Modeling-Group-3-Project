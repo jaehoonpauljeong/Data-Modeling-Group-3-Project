{
 "cells": [
  {
   "cell_type": "markdown",
   "metadata": {},
   "source": [
    "# Traffic engineering illustrations\n",
    "## Import functions and libraries\n",
    "\n",
    "The used functions can be found in the `traffic_engineering_module.py` file."
   ]
  },
  {
   "cell_type": "code",
   "execution_count": null,
   "metadata": {},
   "outputs": [],
   "source": [
    "import visualize_traffic_module as te"
   ]
  },
  {
   "cell_type": "markdown",
   "metadata": {},
   "source": [
    "## Visualization of the network"
   ]
  },
  {
   "cell_type": "code",
   "execution_count": null,
   "metadata": {},
   "outputs": [],
   "source": [
    "topology = te.get_current_topology()\n",
    "nodes = topology[\"network-topology\"][\"topology\"][0][\"node\"]\n",
    "links = topology[\"network-topology\"][\"topology\"][0][\"link\"]\n",
    "\n",
    "te.visualize_topology(nodes, links)"
   ]
  },
  {
   "cell_type": "markdown",
   "metadata": {},
   "source": [
    "## Visualization of the network with traffic intensity"
   ]
  },
  {
   "cell_type": "code",
   "execution_count": null,
   "metadata": {},
   "outputs": [],
   "source": [
    "topology = te.get_current_topology()\n",
    "nodes = topology[\"network-topology\"][\"topology\"][0][\"node\"]\n",
    "links = topology[\"network-topology\"][\"topology\"][0][\"link\"]\n",
    "\n",
    "flows = te.get_flow_statistics()\n",
    "routes = te.analyze_packet_routing(flows)\n",
    "\n",
    "te.visualize_topology_with_traffic(nodes, links, routes)"
   ]
  }
 ],
 "metadata": {
  "kernelspec": {
   "display_name": ".venv",
   "language": "python",
   "name": "python3"
  },
  "language_info": {
   "codemirror_mode": {
    "name": "ipython",
    "version": 3
   },
   "file_extension": ".py",
   "mimetype": "text/x-python",
   "name": "python",
   "nbconvert_exporter": "python",
   "pygments_lexer": "ipython3",
   "version": "3.10.12"
  }
 },
 "nbformat": 4,
 "nbformat_minor": 2
}
